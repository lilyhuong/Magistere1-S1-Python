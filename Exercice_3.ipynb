{
  "nbformat": 4,
  "nbformat_minor": 0,
  "metadata": {
    "colab": {
      "name": "Exercice 3.ipynb",
      "provenance": [],
      "collapsed_sections": [],
      "authorship_tag": "ABX9TyMrfRGovrm7yYZE/LQ+3BmE",
      "include_colab_link": true
    },
    "kernelspec": {
      "name": "python3",
      "display_name": "Python 3"
    }
  },
  "cells": [
    {
      "cell_type": "markdown",
      "metadata": {
        "id": "view-in-github",
        "colab_type": "text"
      },
      "source": [
        "<a href=\"https://colab.research.google.com/github/lilyhuong/Magistere1-S1-Python/blob/main/Exercice_3.ipynb\" target=\"_parent\"><img src=\"https://colab.research.google.com/assets/colab-badge.svg\" alt=\"Open In Colab\"/></a>"
      ]
    },
    {
      "cell_type": "markdown",
      "metadata": {
        "id": "VWM6ShxHWX7Y"
      },
      "source": [
        "# Question 1\n",
        "**Let ['cow', 'mouse', 'cat', 'pig'] be a list. Print the elements of\n",
        "the list (each on a single line) in three different ways (two using\n",
        "for, one using while).**\n",
        "\n",
        "**Méthode 1:**\n",
        "\n",
        "\n",
        "```\n",
        "for animal in animals:\n",
        "\tprint(animal)\n",
        "```\n",
        "> Pour chaque l'élément dans la liste animals, on affiche le résultat\n",
        "\n",
        "L'ordre est le suivant:\n",
        "\n",
        "\n",
        "1.   Quand animal = 0, affiche \"cow\" \n",
        "2.   animal = 1 (Deuxième élément dans la liste), on affiche mouse\n",
        "\n",
        "...\n",
        "\n",
        "...\n",
        "\n",
        "\n",
        "\n",
        "\n",
        "\n"
      ]
    },
    {
      "cell_type": "code",
      "metadata": {
        "colab": {
          "base_uri": "https://localhost:8080/"
        },
        "id": "CJrnjIrHWTmI",
        "outputId": "3297311e-b290-4f04-abad-2e2a60610727"
      },
      "source": [
        "animals = [\"cow\", \"mouse\", \"cat\", \"pig\"]\n",
        "for animal in animals:\n",
        "\tprint(animal)"
      ],
      "execution_count": null,
      "outputs": [
        {
          "output_type": "stream",
          "text": [
            "cow\n",
            "mouse\n",
            "cat\n",
            "pig\n"
          ],
          "name": "stdout"
        }
      ]
    },
    {
      "cell_type": "markdown",
      "metadata": {
        "id": "r7eE0rXHWWpD"
      },
      "source": [
        "**Méthode 2:**\n",
        "\n",
        "> La fonction print () insère une nouvelle ligne à la fin, par défaut (méthode 1)\n",
        "\n",
        "\n",
        "\n",
        "```\n",
        ", end = \"\"\n",
        "```\n",
        "\"end = ''\" ajoute un espace au lieu d'une nouvelle ligne.\n"
      ]
    },
    {
      "cell_type": "code",
      "metadata": {
        "colab": {
          "base_uri": "https://localhost:8080/"
        },
        "id": "eKh2GeSaZDe4",
        "outputId": "e3581ebe-563d-4179-97e3-b318a5a9026d"
      },
      "source": [
        "for animal in animals:\n",
        "\tprint(animal, end = \" \")"
      ],
      "execution_count": null,
      "outputs": [
        {
          "output_type": "stream",
          "text": [
            "cow mouse cat pig "
          ],
          "name": "stdout"
        }
      ]
    },
    {
      "cell_type": "markdown",
      "metadata": {
        "id": "1FSn61l-agb2"
      },
      "source": [
        "**Méthode 3**\n",
        "\n",
        "```\n",
        "len ()\n",
        "```\n",
        "len () = la taille de la liste,...\n"
      ]
    },
    {
      "cell_type": "code",
      "metadata": {
        "colab": {
          "base_uri": "https://localhost:8080/"
        },
        "id": "1Y3Arn9GajAW",
        "outputId": "9358c5fc-1cf6-4050-b76a-7cd3eebc27a4"
      },
      "source": [
        "for i in range(len(animals)):\n",
        "\tprint(animals[i])"
      ],
      "execution_count": null,
      "outputs": [
        {
          "output_type": "stream",
          "text": [
            "cow\n",
            "mouse\n",
            "cat\n",
            "pig\n"
          ],
          "name": "stdout"
        }
      ]
    },
    {
      "cell_type": "markdown",
      "metadata": {
        "id": "3DELQzSCa3_V"
      },
      "source": [
        "**Méthode 4**\n",
        "\n",
        "\n",
        "```\n",
        "counter = 0\n",
        "```\n",
        "> Créer une valeur départ pour utiliser la boucle \"While \"\n",
        "\n",
        "\n",
        "\n",
        "```\n",
        "while counter < len(animals):\n",
        "```\n",
        ">Quand l'indice counter < 4 (len (animals))\n",
        "afficher les élément dans la liste animals\n",
        "\n",
        "\n"
      ]
    },
    {
      "cell_type": "code",
      "metadata": {
        "colab": {
          "base_uri": "https://localhost:8080/"
        },
        "id": "MYyUdiFha40_",
        "outputId": "48e485ef-bdba-4fd2-fef0-daf106041c1c"
      },
      "source": [
        "counter = 0\n",
        "while counter < len(animals):\n",
        "\tprint(animals[counter])\n",
        "\tcounter = counter + 1"
      ],
      "execution_count": null,
      "outputs": [
        {
          "output_type": "stream",
          "text": [
            "cow\n",
            "mouse\n",
            "cat\n",
            "pig\n"
          ],
          "name": "stdout"
        }
      ]
    },
    {
      "cell_type": "markdown",
      "metadata": {
        "id": "Yg8YNQfXcIAL"
      },
      "source": [
        "# Question 2\n",
        "**Build a list containing the days of the week. Give a series of instructions to print the days of the week (until Friday, using for) and\n",
        "another series of instructions that prints the week-end (using while).**\n",
        "\n",
        "**Using for**\n",
        "\n",
        "\n",
        "```\n",
        "days[0:5]\n",
        "```\n",
        "> Afficher les éléments de 0 à 4 ( Monday to Friday)\n",
        "\n"
      ]
    },
    {
      "cell_type": "code",
      "metadata": {
        "colab": {
          "base_uri": "https://localhost:8080/"
        },
        "id": "A9IkcjZRcQOT",
        "outputId": "c9554887-1b2e-48c4-9fb7-60d005490663"
      },
      "source": [
        "days = [\"Monday\", \"Tuesday\", \"Wednesday\", \"Thursday\", \"Friday\", \"Saturday\", \"Sunday\"]\n",
        "\n",
        "for day in days[0:5]:\n",
        "\tprint(day)"
      ],
      "execution_count": null,
      "outputs": [
        {
          "output_type": "stream",
          "text": [
            "Monday\n",
            "Tuesday\n",
            "Wednesday\n",
            "Thursday\n",
            "Friday\n"
          ],
          "name": "stdout"
        }
      ]
    },
    {
      "cell_type": "markdown",
      "metadata": {
        "id": "n27wRuOWc1vs"
      },
      "source": [
        "**Using While**\n",
        "\n",
        "(Meme l'odre avec l'exercice 1)"
      ]
    },
    {
      "cell_type": "code",
      "metadata": {
        "colab": {
          "base_uri": "https://localhost:8080/"
        },
        "id": "6eOLmhYpdDbs",
        "outputId": "7c3fc3d0-0b24-4099-bf30-3e8c7ac6f46d"
      },
      "source": [
        "counter = 5\n",
        "while counter < len(days):\n",
        "\tprint(days[counter])\n",
        "\tcounter = counter + 1"
      ],
      "execution_count": null,
      "outputs": [
        {
          "output_type": "stream",
          "text": [
            "Saturday\n",
            "Sunday\n"
          ],
          "name": "stdout"
        }
      ]
    },
    {
      "cell_type": "markdown",
      "metadata": {
        "id": "bPBj3KHDdPmm"
      },
      "source": [
        "# Question 3\n",
        "**In a loop, print the numbers from 1 to 20 divisible by 5, one by line.**\n",
        "\n",
        "\n",
        "\n",
        "```\n",
        "while number <= 20:\n",
        "```\n",
        "> Quand l'indice number <= à 20\n",
        "\n",
        "\n",
        "```\n",
        ", end \" \"\n",
        "```\n",
        "> Afficher le résultat dans la même ligne et avec espace entre les variables \n",
        " \n",
        "\n",
        "\n",
        "\n"
      ]
    },
    {
      "cell_type": "code",
      "metadata": {
        "colab": {
          "base_uri": "https://localhost:8080/"
        },
        "id": "cBOPKrR5dlzU",
        "outputId": "c27775ca-eb4c-49aa-f0ba-d0d56529300e"
      },
      "source": [
        "number = 5\n",
        "while number <= 20:\n",
        "\tprint(number, end = \" \")\n",
        "\tnumber = number + 5"
      ],
      "execution_count": null,
      "outputs": [
        {
          "output_type": "stream",
          "text": [
            "5 10 15 20 "
          ],
          "name": "stdout"
        }
      ]
    },
    {
      "cell_type": "markdown",
      "metadata": {
        "id": "DkHLlq78eR78"
      },
      "source": [
        "#Question 4\n",
        "**Let \"odd\" be the list of numbers [1, 3, 5, 7, 9, 11, 13, 15, 17, 19,\n",
        "21]. Write a program that, from the \"odd\" list, builds an \"even\" list\n",
        "where each element from \"odd\" is incremented by 1.**\n",
        "Note: Python slicing for using range\n",
        "\n",
        "[start, end, step]\n",
        "\n",
        "**Méthode 1**\n",
        "```\n",
        "evens = []\n",
        "```\n",
        "> Créer une liste vide pour ajouter les éléments dans le résultat\n",
        "\n",
        "\n",
        "```\n",
        "for odd in odds:\n",
        "\tevens = evens + [odd + 1]\n",
        "```\n",
        "> Pour chaque l'élément impair dans la liste odds\n",
        ", la liste evens ajoute un nombre pair = nombre impair + 1\n",
        "\n",
        "> si odd = 1\n",
        "\n",
        "evens = [1+1] = [2]\n",
        "\n",
        "> Next, si odd = 3\n",
        "\n",
        "evens = [2, (3 + 1) ] = [2, 4]\n",
        "\n",
        "....\n",
        "\n",
        "\n",
        "\n"
      ]
    },
    {
      "cell_type": "code",
      "metadata": {
        "colab": {
          "base_uri": "https://localhost:8080/"
        },
        "id": "pDmoIZqReaPZ",
        "outputId": "1df97677-58ca-4735-d5b5-770b2626f8b2"
      },
      "source": [
        "odds = list(range(1, 22, 2))\n",
        "print(odds)\n",
        "evens = []\n",
        "for odd in odds:\n",
        "\tevens = evens + [odd + 1]\n",
        "\n",
        "print(evens)"
      ],
      "execution_count": null,
      "outputs": [
        {
          "output_type": "stream",
          "text": [
            "[1, 3, 5, 7, 9, 11, 13, 15, 17, 19, 21]\n",
            "[2, 4, 6, 8, 10, 12, 14, 16, 18, 20, 22]\n"
          ],
          "name": "stdout"
        }
      ]
    },
    {
      "cell_type": "markdown",
      "metadata": {
        "id": "iHuB_tE7jGFE"
      },
      "source": [
        "**Méthode 2** : Utiliser \"append\"\n",
        "\n",
        "\n",
        "```\n",
        ".append()\n",
        "```\n",
        "Ajouter chaque élement à la liste evens\n"
      ]
    },
    {
      "cell_type": "code",
      "metadata": {
        "colab": {
          "base_uri": "https://localhost:8080/"
        },
        "id": "bHj9AWi3jG-s",
        "outputId": "ce23295c-88eb-4374-98e0-691ab21efd37"
      },
      "source": [
        "odds = list(range(1, 22, 2))\n",
        "print(odds)\n",
        "evens = []\n",
        "for odd in odds:\n",
        "\tevens.append(odd+1)\n",
        "\n",
        "print(evens)"
      ],
      "execution_count": null,
      "outputs": [
        {
          "output_type": "stream",
          "text": [
            "[1, 3, 5, 7, 9, 11, 13, 15, 17, 19, 21]\n",
            "[2, 4, 6, 8, 10, 12, 14, 16, 18, 20, 22]\n"
          ],
          "name": "stdout"
        }
      ]
    },
    {
      "cell_type": "markdown",
      "metadata": {
        "id": "7Z9HJNzPjrGR"
      },
      "source": [
        "**Méthode 3** Utiliser rang()\n"
      ]
    },
    {
      "cell_type": "code",
      "metadata": {
        "colab": {
          "base_uri": "https://localhost:8080/"
        },
        "id": "qNwFc4Xwj6ix",
        "outputId": "2b7a3d9d-2f74-4b24-c720-9850cb2f87c1"
      },
      "source": [
        "odds = list(range(1, 22, 2))\n",
        "print(odds)\n",
        "evens = []\n",
        "for i in range(len(odds)):\n",
        "\tevens = evens + [odds[i] + 1]\n",
        "\n",
        "print(evens)"
      ],
      "execution_count": null,
      "outputs": [
        {
          "output_type": "stream",
          "text": [
            "[1, 3, 5, 7, 9, 11, 13, 15, 17, 19, 21]\n",
            "[2, 4, 6, 8, 10, 12, 14, 16, 18, 20, 22]\n"
          ],
          "name": "stdout"
        }
      ]
    },
    {
      "cell_type": "markdown",
      "metadata": {
        "id": "smN3KpPRkHJc"
      },
      "source": [
        "# Question 5\n",
        "**Here are the grades of a student [14, 9, 6, 8, 12]. Compute the average of these notes and print it with exactly 2 decimals.**\n",
        "\n",
        "\n",
        "```\n",
        "sum_grades = 0\n",
        "```\n",
        "> Hypothèse: Si on  ne connais pas la total des notes, on suppose que la somme des note égale à 0\n",
        "\n",
        "\n",
        "```\n",
        "for grade in grades:\n",
        "\tsum_grades = sum_grades + grade\n",
        "```\n",
        "> Pour chaque note dans la liste grades,\n",
        "\n",
        "la somme des notes = la somme de note précédent + la valeur d'indice grade\n",
        "\n",
        "1. Pour grade = 14, la somme des note = 0 + 14 = 14\n",
        "\n",
        "2. Next, grade = 9, la somme des note = 14 + 9 = 23\n",
        "\n",
        "3. Next, grade = 6, la somme des note = 23 + 6 = 29\n",
        "\n",
        "4. ...\n",
        "\n",
        "\n",
        "\n",
        "\n"
      ]
    },
    {
      "cell_type": "code",
      "metadata": {
        "colab": {
          "base_uri": "https://localhost:8080/"
        },
        "id": "kR5HRffukS9y",
        "outputId": "222c43de-c379-4d48-adb1-f25e2ca4a478"
      },
      "source": [
        "grades = [14, 9, 6, 8, 12]\n",
        "sum_grades = 0\n",
        "for grade in grades:\n",
        "\tsum_grades = sum_grades + grade\n",
        "\n",
        "average_grades = sum_grades/len(grades)\n",
        "print(average_grades)"
      ],
      "execution_count": null,
      "outputs": [
        {
          "output_type": "stream",
          "text": [
            "9.8\n"
          ],
          "name": "stdout"
        }
      ]
    },
    {
      "cell_type": "markdown",
      "metadata": {
        "id": "2OLGzUJimPUr"
      },
      "source": [
        "# Question 6\n",
        "**.Let X be a list containing the numbers from 0 to 10. Compute the product of two consecutive numbers, two by two from X, using a loop. Example from the first iterations:\n",
        "0\n",
        "2\n",
        "6**\n",
        "\n"
      ]
    },
    {
      "cell_type": "code",
      "metadata": {
        "colab": {
          "base_uri": "https://localhost:8080/"
        },
        "id": "IB-v3JQwmaH_",
        "outputId": "9ccda0de-03bc-487e-99ab-1b832bca55e1"
      },
      "source": [
        "numbers = list(range(11))\n",
        "for i in range(len(numbers)-1):\n",
        "\tprint(numbers[i] * numbers[i+1])"
      ],
      "execution_count": null,
      "outputs": [
        {
          "output_type": "stream",
          "text": [
            "0\n",
            "2\n",
            "6\n",
            "12\n",
            "20\n",
            "30\n",
            "42\n",
            "56\n",
            "72\n",
            "90\n"
          ],
          "name": "stdout"
        }
      ]
    },
    {
      "cell_type": "markdown",
      "metadata": {
        "id": "GJB6s5OpmwJQ"
      },
      "source": [
        "#Question 7\n",
        "**Triangle. Write a script that draws a triangle as below:**\n",
        "\n",
        "```\n",
        "*\n",
        "**\n",
        "***\n",
        "****\n",
        "*****\n",
        "******\n",
        "*******\n",
        "********\n",
        "*********\n",
        "**********\n",
        "```\n",
        "1. Si i = 1\n",
        "\n",
        " \"*\" * 1 :    \n",
        "  il y a un étoile dans cette ligne\n",
        "2. next:  i = 2\n",
        "\n",
        "  \"*\"  * 2 \n",
        "\n",
        "  il y a 2 étoiles dans la deuxième ligne\n",
        "3. .....\n",
        "\n",
        "\n",
        "\n",
        "\n",
        "\n",
        "\n"
      ]
    },
    {
      "cell_type": "code",
      "metadata": {
        "colab": {
          "base_uri": "https://localhost:8080/"
        },
        "id": "-8gIsxg_m95F",
        "outputId": "6e100f12-06cf-40d6-86e5-bfb97cd12976"
      },
      "source": [
        "for i in range(1,11):\n",
        "\tprint(\"*\" * i)"
      ],
      "execution_count": null,
      "outputs": [
        {
          "output_type": "stream",
          "text": [
            "*\n",
            "**\n",
            "***\n",
            "****\n",
            "*****\n",
            "******\n",
            "*******\n",
            "********\n",
            "*********\n",
            "**********\n"
          ],
          "name": "stdout"
        }
      ]
    },
    {
      "cell_type": "markdown",
      "metadata": {
        "id": "8ykwu8qDow0e"
      },
      "source": [
        "#Question 8\n",
        "**Reversed triangle. Write a script that draws a triangle as below:**\n",
        "\n",
        "\n",
        "```\n",
        "**********\n",
        "*********\n",
        "********\n",
        "*******\n",
        "******\n",
        "*****\n",
        "****\n",
        "***\n",
        "**\n",
        "*\n",
        "```\n",
        "\n"
      ]
    },
    {
      "cell_type": "code",
      "metadata": {
        "colab": {
          "base_uri": "https://localhost:8080/"
        },
        "id": "6T7XDFu1o8Q8",
        "outputId": "f6d97cae-5d47-490a-e2d3-49a821db7e35"
      },
      "source": [
        "for i in range(10, 0, -1):\n",
        "\tprint(\"*\" * i)"
      ],
      "execution_count": null,
      "outputs": [
        {
          "output_type": "stream",
          "text": [
            "**********\n",
            "*********\n",
            "********\n",
            "*******\n",
            "******\n",
            "*****\n",
            "****\n",
            "***\n",
            "**\n",
            "*\n"
          ],
          "name": "stdout"
        }
      ]
    },
    {
      "cell_type": "markdown",
      "metadata": {
        "id": "KXzFkUwBpCjI"
      },
      "source": [
        "# Question 9\n",
        "**Left triangle. Write a script that draws a triangle as below:**\n",
        "\n",
        "\n",
        "```\n",
        "         *\n",
        "       ***\n",
        "      ****\n",
        "     *****\n",
        "    ******\n",
        "   *******\n",
        "  ********\n",
        " *********\n",
        "**********\n",
        "\n",
        "```\n",
        "\n",
        "\n",
        "```\n",
        "\"{:>10s}\n",
        "```\n",
        "On commence à droit\n",
        "\n",
        "\n"
      ]
    },
    {
      "cell_type": "code",
      "metadata": {
        "colab": {
          "base_uri": "https://localhost:8080/"
        },
        "id": "Bkfazre2piLu",
        "outputId": "d2c5a387-20fc-4886-d182-217a6a878a4a"
      },
      "source": [
        "for i in range(1, 11):\n",
        "\tprint(\"{:>10s}\".format(i * \"*\"))"
      ],
      "execution_count": null,
      "outputs": [
        {
          "output_type": "stream",
          "text": [
            "         *\n",
            "        **\n",
            "       ***\n",
            "      ****\n",
            "     *****\n",
            "    ******\n",
            "   *******\n",
            "  ********\n",
            " *********\n",
            "**********\n"
          ],
          "name": "stdout"
        }
      ]
    },
    {
      "cell_type": "markdown",
      "metadata": {
        "id": "HLm1sK3rzLtA"
      },
      "source": [
        "# Exercice 10\n",
        "**Isosceles triangle. Write a script that draws a triangle as below:**\n",
        "\n",
        "\n",
        "```\n",
        "          *\n",
        "         ***\n",
        "        *****\n",
        "       *******\n",
        "      *********\n",
        "     ***********\n",
        "    *************\n",
        "   ***************\n",
        "  *****************\n",
        " *******************\n",
        "*********************\n",
        "```\n",
        "\n",
        "\n"
      ]
    },
    {
      "cell_type": "code",
      "metadata": {
        "colab": {
          "base_uri": "https://localhost:8080/"
        },
        "id": "wjPz7JE0ztgX",
        "outputId": "e29a9b97-d27d-4633-80dc-1a51258c1420"
      },
      "source": [
        "for i in range(1, 22, 2):\n",
        "\tprint(\"{:^21s}\".format(i * \"*\"))"
      ],
      "execution_count": 1,
      "outputs": [
        {
          "output_type": "stream",
          "text": [
            "          *          \n",
            "         ***         \n",
            "        *****        \n",
            "       *******       \n",
            "      *********      \n",
            "     ***********     \n",
            "    *************    \n",
            "   ***************   \n",
            "  *****************  \n",
            " ******************* \n",
            "*********************\n"
          ],
          "name": "stdout"
        }
      ]
    },
    {
      "cell_type": "markdown",
      "metadata": {
        "id": "lIgecVwH0E8l"
      },
      "source": [
        "# Exercice 11\n",
        "**Traverse a matrix. Write a script that traverses a squared matrix of\n",
        "n by n1**\n",
        "\n",
        "\n",
        "\n",
        "```\n",
        "\\t \n",
        "```\n",
        ">\\t est une tabulation\n",
        "\n",
        "\n",
        "```\n",
        "for i in range(1, n+1):\n",
        "\tfor j in range(1, n+1):\n",
        "\t\tprint(str(i)+\"\\t\"+str(j))\n",
        "```\n",
        "une boucle dans une boucle\n",
        "\n",
        "Par example\n",
        "1. **Si i = 1**, \n",
        "\n",
        "> ensuite j = 1\n",
        "On affiche la prièmiere ligne \n",
        "\n",
        "```\n",
        "1      1\n",
        "```\n",
        "\n",
        "\n",
        "> j = 2\n",
        "```\n",
        "1      1\n",
        "1      2\n",
        "```\n",
        "\n",
        "> j = 3\n",
        "```\n",
        "1      1\n",
        "1      2\n",
        "1      3\n",
        "```\n",
        "\n",
        "> j = 4\n",
        "```\n",
        "1      1\n",
        "1      2\n",
        "1      3\n",
        "1      4\n",
        "```\n",
        "**Note**: Dans première étape, On est tourjours dans une boucle i = 1 donc que la valeur du premier ne change pas jusqu' à la boucle for j in range (1, n + 1) est terminé\n",
        "\n",
        "2. On passe à deuxième étape, **si i = 2**\n",
        "\n",
        "j = 1\n",
        "\n",
        "j = 2\n",
        "\n",
        "j = 3\n",
        "\n",
        "j = 4\n",
        "\n",
        "\n",
        "3. \n",
        "\n",
        "\n",
        "....\n",
        "\n",
        "\n",
        "\n",
        "\n"
      ]
    },
    {
      "cell_type": "code",
      "metadata": {
        "colab": {
          "base_uri": "https://localhost:8080/"
        },
        "id": "wSXKPzGf9iK9",
        "outputId": "41978919-282a-4ad0-f04f-f382244721c1"
      },
      "source": [
        "print(\"line\\tcolumn\")\n",
        "n=4\n",
        "for i in range(1, n+1):\n",
        "\tfor j in range(1, n+1):\n",
        "\t\tprint(str(i)+\"\\t\"+str(j))"
      ],
      "execution_count": 6,
      "outputs": [
        {
          "output_type": "stream",
          "text": [
            "line\tcolumn\n",
            "1\t1\n",
            "1\t2\n",
            "1\t3\n",
            "1\t4\n",
            "2\t1\n",
            "2\t2\n",
            "2\t3\n",
            "2\t4\n",
            "3\t1\n",
            "3\t2\n",
            "3\t3\n",
            "3\t4\n",
            "4\t1\n",
            "4\t2\n",
            "4\t3\n",
            "4\t4\n"
          ],
          "name": "stdout"
        }
      ]
    },
    {
      "cell_type": "markdown",
      "metadata": {
        "id": "Z4oOc8i_C7b7"
      },
      "source": [
        "# Exercice 12\n",
        "**Fibonacci sequence. Write a script that prints the first 20 numbers\n",
        "of the sequence.**\n",
        "\n",
        "**0, 1, 1, 2, 3, 5, 8, 13, 21, 34**"
      ]
    },
    {
      "cell_type": "code",
      "metadata": {
        "colab": {
          "base_uri": "https://localhost:8080/"
        },
        "id": "wEjVPSah6JM1",
        "outputId": "a60336f7-d548-44a0-ea92-a18453caa06e"
      },
      "source": [
        "t1 = 0\n",
        "t2 = 1\n",
        "print(t1, end= \" \")\n",
        "for i in range(18):\n",
        "\ttemp = t2\n",
        "\tt2 = t1 + t2\n",
        "\tt1 = temp\n",
        "\tprint(t2, end = \" \")"
      ],
      "execution_count": 2,
      "outputs": [
        {
          "output_type": "stream",
          "text": [
            "0 1 2 3 5 8 13 21 34 55 89 144 233 377 610 987 1597 2584 4181 "
          ],
          "name": "stdout"
        }
      ]
    }
  ]
}
