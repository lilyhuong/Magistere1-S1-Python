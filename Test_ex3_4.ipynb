{
  "nbformat": 4,
  "nbformat_minor": 0,
  "metadata": {
    "colab": {
      "name": "Test ex3 - 4.ipynb",
      "provenance": [],
      "authorship_tag": "ABX9TyMsgd9BDCh8cphVjNA6GVa0",
      "include_colab_link": true
    },
    "kernelspec": {
      "name": "python3",
      "display_name": "Python 3"
    }
  },
  "cells": [
    {
      "cell_type": "markdown",
      "metadata": {
        "id": "view-in-github",
        "colab_type": "text"
      },
      "source": [
        "<a href=\"https://colab.research.google.com/github/lilyhuong/Magistere1-S1-Python/blob/main/Test_ex3_4.ipynb\" target=\"_parent\"><img src=\"https://colab.research.google.com/assets/colab-badge.svg\" alt=\"Open In Colab\"/></a>"
      ]
    },
    {
      "cell_type": "code",
      "metadata": {
        "id": "hklG8VNxDTlI"
      },
      "source": [
        "import pandas as pd\n",
        "import sklearn \n",
        "from sklearn.neural_network import MLPClassifier \n",
        "from sklearn.neural_network import MLPRegressor\n",
        "from sklearn.preprocessing import LabelEncoder"
      ],
      "execution_count": null,
      "outputs": []
    },
    {
      "cell_type": "code",
      "metadata": {
        "id": "1Hf4kbiJDQqd"
      },
      "source": [
        "def Cleaning_base(base, table):\n",
        "  global question3\n",
        "  question3 = pd.read_excel(base, sheet_name = table) \n",
        "  question3.columns = [\"age\",\"workclass\", \"fnlwgt\", \"education\", \"education-num\", \"marital-status\",\"occupation\", \"relationship\", \"race\", \"sex\", \"capital-gain\", \"capital-loss\",\"hours-per-week\",\"native-country\", \"income\"]\n",
        "  question3.replace(['Divorced', 'Married-AF-spouse', 'Married-civ-spouse', 'Married-spouse-absent','Never-married','Separated','Widowed'],\n",
        "                      ['divorced','married','married','married','not married','not married','not married'], inplace = True)\n",
        "  lb_make = LabelEncoder()\n",
        "  question3['workclass_code'] = lb_make.fit_transform(question3[\"workclass\"])\n",
        "  question3['education_code'] = lb_make.fit_transform(question3[\"education\"])\n",
        "  question3['marital-status_code'] = lb_make.fit_transform(question3[\"marital-status\"])\n",
        "  question3['occupation_code'] = lb_make.fit_transform(question3[\"occupation\"])\n",
        "  question3['relationship_code'] = lb_make.fit_transform(question3[\"relationship\"])\n",
        "  question3['race_code'] = lb_make.fit_transform(question3[\"race\"])\n",
        "  question3['sex_code'] = lb_make.fit_transform(question3[\"sex\"])\n",
        "  question3['native-country_code'] = lb_make.fit_transform(question3[\"native-country\"])\n",
        "  question3['income_code'] = lb_make.fit_transform(question3[\"income\"])\n",
        "  question3 = question3.drop([\"workclass\", \"education\",\"education-num\", \"marital-status\", \"occupation\", \"relationship\",\"race\", \"sex\", \"income\", \"native-country\", \"fnlwgt\"], axis = 1 )\n",
        "  return\n",
        "Cleaning_base (\"http://adrianchifu.com/teachings/AMSE/MAG1/data.xlsx\", \"NN.train\")\n",
        "base1 = question3\n",
        "Cleaning_base (\"http://adrianchifu.com/teachings/AMSE/MAG1/data.xlsx\", \"NN.test\")\n",
        "base2 = question3\n",
        "\n",
        "  "
      ],
      "execution_count": null,
      "outputs": []
    },
    {
      "cell_type": "code",
      "metadata": {
        "id": "BMlPBCKUNv9b"
      },
      "source": [
        "target_column1 = [\"income_code\"]\n",
        "predictors1 = list(set(list(base1.columns)) - set(target_column1))\n",
        "base1[predictors1] = base1[predictors1] / base1[predictors1].max()\n",
        "target_column2 = [\"income_code\"]\n",
        "predictors2 = list(set(list(base2.columns)) - set(target_column2))\n",
        "base2[predictors2] = base2[predictors2] / base2[predictors2].max()\n"
      ],
      "execution_count": null,
      "outputs": []
    },
    {
      "cell_type": "code",
      "metadata": {
        "id": "gSKAOfymOcbx"
      },
      "source": [
        "X_train = base1[predictors1].values\n",
        "y_train = base1[target_column1].values\n",
        "X_test = base2[predictors2].values\n",
        "y_test = base2[target_column2].values"
      ],
      "execution_count": null,
      "outputs": []
    },
    {
      "cell_type": "code",
      "metadata": {
        "colab": {
          "base_uri": "https://localhost:8080/"
        },
        "id": "ASG7pGK0O4D8",
        "outputId": "5558f755-c7c2-480a-9ec1-1199e322d37c"
      },
      "source": [
        "mlp = MLPClassifier(hidden_layer_sizes= (50, 100, 50), activation= 'relu', solver= 'adam', max_iter= 200 )\n",
        "mlp.fit(X_train, y_train)\n",
        "predict_train = mlp.predict(X_train)\n",
        "predict_test = mlp.predict(X_test)"
      ],
      "execution_count": null,
      "outputs": [
        {
          "output_type": "stream",
          "text": [
            "/usr/local/lib/python3.6/dist-packages/sklearn/neural_network/_multilayer_perceptron.py:934: DataConversionWarning: A column-vector y was passed when a 1d array was expected. Please change the shape of y to (n_samples, ), for example using ravel().\n",
            "  y = column_or_1d(y, warn=True)\n",
            "/usr/local/lib/python3.6/dist-packages/sklearn/neural_network/_multilayer_perceptron.py:571: ConvergenceWarning: Stochastic Optimizer: Maximum iterations (200) reached and the optimization hasn't converged yet.\n",
            "  % self.max_iter, ConvergenceWarning)\n"
          ],
          "name": "stderr"
        }
      ]
    },
    {
      "cell_type": "code",
      "metadata": {
        "colab": {
          "base_uri": "https://localhost:8080/"
        },
        "id": "GV4SIJUiPnJe",
        "outputId": "0001e304-f0ac-467d-e718-215baf1b8de7"
      },
      "source": [
        "from sklearn.metrics import classification_report, confusion_matrix\n",
        "print(confusion_matrix(y_train, predict_train))\n",
        "print(classification_report(y_train, predict_train))"
      ],
      "execution_count": null,
      "outputs": [
        {
          "output_type": "stream",
          "text": [
            "[[23085  1634]\n",
            " [ 2528  5313]]\n",
            "              precision    recall  f1-score   support\n",
            "\n",
            "           0       0.90      0.93      0.92     24719\n",
            "           1       0.76      0.68      0.72      7841\n",
            "\n",
            "    accuracy                           0.87     32560\n",
            "   macro avg       0.83      0.81      0.82     32560\n",
            "weighted avg       0.87      0.87      0.87     32560\n",
            "\n"
          ],
          "name": "stdout"
        }
      ]
    },
    {
      "cell_type": "code",
      "metadata": {
        "colab": {
          "base_uri": "https://localhost:8080/"
        },
        "id": "fBBwa25Y_Mzp",
        "outputId": "a6080fdb-0873-4ba6-9deb-253e48fde85b"
      },
      "source": [
        "print(confusion_matrix(y_test,predict_test))\n",
        "print(classification_report(y_test,predict_test))"
      ],
      "execution_count": null,
      "outputs": [
        {
          "output_type": "stream",
          "text": [
            "[[11357  1077]\n",
            " [ 1497  2349]]\n",
            "              precision    recall  f1-score   support\n",
            "\n",
            "           0       0.88      0.91      0.90     12434\n",
            "           1       0.69      0.61      0.65      3846\n",
            "\n",
            "    accuracy                           0.84     16280\n",
            "   macro avg       0.78      0.76      0.77     16280\n",
            "weighted avg       0.84      0.84      0.84     16280\n",
            "\n"
          ],
          "name": "stdout"
        }
      ]
    }
  ]
}