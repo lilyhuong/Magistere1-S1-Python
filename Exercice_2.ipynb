{
  "nbformat": 4,
  "nbformat_minor": 0,
  "metadata": {
    "colab": {
      "name": "Exercice 2.ipynb",
      "provenance": [],
      "authorship_tag": "ABX9TyM+AAnStcdjx46HaAlOHTuK",
      "include_colab_link": true
    },
    "kernelspec": {
      "name": "python3",
      "display_name": "Python 3"
    }
  },
  "cells": [
    {
      "cell_type": "markdown",
      "metadata": {
        "id": "view-in-github",
        "colab_type": "text"
      },
      "source": [
        "<a href=\"https://colab.research.google.com/github/lilyhuong/Magistere1-S1-Python/blob/main/Exercice_2.ipynb\" target=\"_parent\"><img src=\"https://colab.research.google.com/assets/colab-badge.svg\" alt=\"Open In Colab\"/></a>"
      ]
    },
    {
      "cell_type": "markdown",
      "metadata": {
        "id": "Xw-Hzo3h2515"
      },
      "source": [
        "# Question 1: \n",
        "**Build the list for the 7 days of the week. From this list, extract the first 5 days and\n",
        "then the other 2 (use the two index types)**\n",
        "\n",
        "\n",
        "```\n",
        "week[:5]\n",
        "```\n",
        "> On affiche les éléments à partir de l'élément 0 (Monday) jusqu' à l'élément 4 (friday) dans la liste week\n",
        "\n",
        "\n",
        "```\n",
        "week[5:]\n",
        "```\n",
        "> On affiche les éléments à partir de l'élément 5 (saturday) jusqu' à la fin (Sunday) dans la liste week\n",
        "\n",
        "\n",
        "\n"
      ]
    },
    {
      "cell_type": "code",
      "metadata": {
        "colab": {
          "base_uri": "https://localhost:8080/"
        },
        "id": "Dvhw9xGz21bL",
        "outputId": "d871c4d5-c09e-429c-c881-b8ad72844852"
      },
      "source": [
        "week = [\"Monday\", \"Tuesday\", \"Wednesday\", \"Thursday\", \"Friday\", \"Saturday\", \"Sunday\"]\n",
        "print (week[:5])\n",
        "print (week[5:])"
      ],
      "execution_count": null,
      "outputs": [
        {
          "output_type": "stream",
          "text": [
            "['Monday', 'Tuesday', 'Wednesday', 'Thursday', 'Friday']\n",
            "['Saturday', 'Sunday']\n"
          ],
          "name": "stdout"
        }
      ]
    },
    {
      "cell_type": "markdown",
      "metadata": {
        "id": "KwNq7hcM24uM"
      },
      "source": [
        "# Exercice 2\n",
        "**Find two ways to access the last day of the week.**"
      ]
    },
    {
      "cell_type": "code",
      "metadata": {
        "colab": {
          "base_uri": "https://localhost:8080/"
        },
        "id": "t57jY_oM5ZbO",
        "outputId": "10602ca0-bbbf-40b9-a633-b32d10327841"
      },
      "source": [
        "print (list[6])\n",
        "print (list[-1])"
      ],
      "execution_count": null,
      "outputs": [
        {
          "output_type": "stream",
          "text": [
            "Sunday\n",
            "Sunday\n"
          ],
          "name": "stdout"
        }
      ]
    },
    {
      "cell_type": "markdown",
      "metadata": {
        "id": "DHe48hWe5o7V"
      },
      "source": [
        "# Question 3\n",
        "**Using only one command, obtain the days in reverse order.**\n",
        "\n",
        "Note: \"Python slicing syntax\"\n",
        "\n",
        "\n",
        "```\n",
        "week [start:stop:step]\n",
        "```\n",
        "\n",
        "\n"
      ]
    },
    {
      "cell_type": "code",
      "metadata": {
        "colab": {
          "base_uri": "https://localhost:8080/"
        },
        "id": "p8rKPzRw6fkM",
        "outputId": "cba70efc-9d8f-4662-acd5-5feb5b813b8b"
      },
      "source": [
        "print(week[::-1])"
      ],
      "execution_count": null,
      "outputs": [
        {
          "output_type": "stream",
          "text": [
            "['Sunday', 'Saturday', 'Friday', 'Thursday', 'Wednesday', 'Tuesday', 'Monday']\n"
          ],
          "name": "stdout"
        }
      ]
    },
    {
      "cell_type": "markdown",
      "metadata": {
        "id": "MAtNEoTJ-Hjb"
      },
      "source": [
        "# Question 4\n",
        "**Create 4 lists: winter, spring, summer and autumn, each containing its corresponding months. Then, create a list of seasons that contains the 4 sublists mentioned before. Predict the value of the following variables and then check your answers in the python interpreter: seasons[2] , seasons[1][0] , seasons[1:2] , seasons[:][1] . How would you explain the last result?**\n",
        "\n",
        "\n",
        "\n",
        "```\n",
        "print (Season[2])\n",
        "```\n",
        "> Afficher la liste indice 2 (Autumn)\n",
        "\n",
        "\n",
        "```\n",
        "print (Season[1][0])\n",
        "```\n",
        "> Afficher la liste indice 1 (Summer), ensuite le premier élément de cette liste\n",
        "\n",
        "\n",
        "\n",
        "```\n",
        "print (Season[1:2])\n",
        "```\n",
        "> Afficher la liste d'indice 1\n",
        "\n",
        "\n",
        "\n",
        "```\n",
        "print (Season[:][1])\n",
        "```\n",
        "> Afficher les élément dans la liste Season, ensuite on choisi la liste d'indice 1 dans cette liste\n",
        "\n",
        "\n"
      ]
    },
    {
      "cell_type": "code",
      "metadata": {
        "colab": {
          "base_uri": "https://localhost:8080/"
        },
        "id": "UrUHVk5M-GsJ",
        "outputId": "ea7d5572-fe88-45a5-d087-327e7f402557"
      },
      "source": [
        "Spring = [\"January\", \"February\", \"March\" ]\n",
        "Summer = [ \"April\", \"May\", \"June\"]\n",
        "Autumn = [\"July\", \"August\", \"September\"]\n",
        "Winter = [ \"October\", \"November\", \"December\"]\n",
        "Season = [Spring, Summer, Autumn, Winter]\n",
        "print (Season[2])\n",
        "print (Season[1][0])\n",
        "print (Season[1:2])\n",
        "print (Season[:][1])"
      ],
      "execution_count": null,
      "outputs": [
        {
          "output_type": "stream",
          "text": [
            "['July', 'August', 'September']\n",
            "April\n",
            "[['April', 'May', 'June']]\n",
            "['April', 'May', 'June']\n"
          ],
          "name": "stdout"
        }
      ]
    },
    {
      "cell_type": "markdown",
      "metadata": {
        "id": "8flrLjOOChEi"
      },
      "source": [
        "# Question 5\n",
        "**With python, respond to the following question in a single command: how many\n",
        "even numbers are there in the interval [2:10000] ?**\n"
      ]
    },
    {
      "cell_type": "code",
      "metadata": {
        "colab": {
          "base_uri": "https://localhost:8080/"
        },
        "id": "jugwP9ovCsQ1",
        "outputId": "d04115f5-fbf0-4350-e201-a4064d21aee1"
      },
      "source": [
        "print(len(range(2,10002,2)))"
      ],
      "execution_count": null,
      "outputs": [
        {
          "output_type": "stream",
          "text": [
            "5000\n"
          ],
          "name": "stdout"
        }
      ]
    }
  ]
}