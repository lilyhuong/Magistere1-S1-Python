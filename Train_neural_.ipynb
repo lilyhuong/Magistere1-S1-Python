{
  "nbformat": 4,
  "nbformat_minor": 0,
  "metadata": {
    "colab": {
      "name": "Train neural .ipynb",
      "provenance": [],
      "collapsed_sections": [],
      "toc_visible": true,
      "authorship_tag": "ABX9TyPVswyVe6LPW5Iw9/SCC0u1",
      "include_colab_link": true
    },
    "kernelspec": {
      "name": "python3",
      "display_name": "Python 3"
    }
  },
  "cells": [
    {
      "cell_type": "markdown",
      "metadata": {
        "id": "view-in-github",
        "colab_type": "text"
      },
      "source": [
        "<a href=\"https://colab.research.google.com/github/lilyhuong/Magistere1-S1-Python/blob/main/Train_neural_.ipynb\" target=\"_parent\"><img src=\"https://colab.research.google.com/assets/colab-badge.svg\" alt=\"Open In Colab\"/></a>"
      ]
    },
    {
      "cell_type": "markdown",
      "metadata": {
        "id": "e1XZr8mtizH_"
      },
      "source": [
        "On utilise pandas pour convertir et utiliser les commandes avec les fiches excel, csv, etc (En général, c'est un instrument pour ouvrir les bases de données )\n",
        "> Importer la fonction pandas et renommer au nom de pd\n"
      ]
    },
    {
      "cell_type": "code",
      "metadata": {
        "id": "G1iBFRB1AUJU"
      },
      "source": [
        "import pandas as pd"
      ],
      "execution_count": null,
      "outputs": []
    },
    {
      "cell_type": "markdown",
      "metadata": {
        "id": "7WeMxkfhkQMR"
      },
      "source": [
        "Dans la bibliothèque matplotlib, on importe function pylot pour créer la graphique et renommer function pylot au nom de plt\n",
        "\n",
        "\n",
        "\n"
      ]
    },
    {
      "cell_type": "code",
      "metadata": {
        "id": "g0oywerqqwFx"
      },
      "source": [
        "from matplotlib import pyplot as plt"
      ],
      "execution_count": null,
      "outputs": []
    },
    {
      "cell_type": "code",
      "metadata": {
        "id": "5CicIvb9AA9T"
      },
      "source": [
        "import numpy as np\n",
        "import sklearn #pour faire ex3 et 4 avec train et test in neural network\n",
        "from sklearn.neural_network import MLPClassifier #Ex3 et 4\n",
        "from sklearn.neural_network import MLPRegressor #Ex3 et 4\n",
        "from sklearn.model_selection import train_test_split #Ex3 et 4"
      ],
      "execution_count": null,
      "outputs": []
    },
    {
      "cell_type": "markdown",
      "metadata": {
        "id": "MjoGKEywCKNC"
      },
      "source": [
        "Dans un neural network, il y a deux types des variables: Variable input, variable output\n",
        "\n",
        "\n",
        "1.   Variable output = Target_column: Variable principale dont les valeurs doivent être modélisées et prédites par d'autres variables (variable dépendante) . Il donne le résultat final, la prévision: supérieur ou inférieur à 50K. On ne peut pas modifier cette variable\n",
        "2.   Variable input = predictors: une variable dont les valeurs seront utilisées pour prédire la valeur de target varible  (variables indépendante)\n",
        "\n",
        "\n",
        "```\n",
        ".set()\n",
        "```\n",
        "L'attribut set() pour choisir une colonne dans une table\n",
        "\n",
        "\n",
        "```\n",
        "predictors = list(set(list(question3.columns)) - set(target_column))\n",
        "```\n",
        "cette ligne: Créer une liste des variables predictors: il y a toutes des varibles sauf la variable \"income\"\n",
        "\n",
        "\n",
        "\n",
        "> La première ligne, on crée un objet target_column,  cette variable ne change pas \n",
        "\n",
        "> La deuxième ligne nous donne la liste de toutes les caractéristiques, \n",
        "\n",
        "> la troisième ligne normalise les prédicteurs."
      ]
    },
    {
      "cell_type": "code",
      "metadata": {
        "id": "S_a4SktGO7CW",
        "colab": {
          "base_uri": "https://localhost:8080/",
          "height": 321
        },
        "outputId": "e0003a3a-2105-4a82-a74c-d230ad1add93"
      },
      "source": [
        "target_column = [\"income_code\"]\n",
        "predictors = list(set(list(question3.columns)) - set(target_column))\n",
        "question3[predictors] = question3[predictors] / question3[predictors].max()\n",
        "question3.describe()"
      ],
      "execution_count": null,
      "outputs": [
        {
          "output_type": "execute_result",
          "data": {
            "text/html": [
              "<div>\n",
              "<style scoped>\n",
              "    .dataframe tbody tr th:only-of-type {\n",
              "        vertical-align: middle;\n",
              "    }\n",
              "\n",
              "    .dataframe tbody tr th {\n",
              "        vertical-align: top;\n",
              "    }\n",
              "\n",
              "    .dataframe thead th {\n",
              "        text-align: right;\n",
              "    }\n",
              "</style>\n",
              "<table border=\"1\" class=\"dataframe\">\n",
              "  <thead>\n",
              "    <tr style=\"text-align: right;\">\n",
              "      <th></th>\n",
              "      <th>age</th>\n",
              "      <th>capital-gain</th>\n",
              "      <th>capital-loss</th>\n",
              "      <th>hours-per-week</th>\n",
              "      <th>workclass_code</th>\n",
              "      <th>education_code</th>\n",
              "      <th>marital-status_code</th>\n",
              "      <th>occupation_code</th>\n",
              "      <th>relationship_code</th>\n",
              "      <th>race_code</th>\n",
              "      <th>sex_code</th>\n",
              "      <th>native-country_code</th>\n",
              "      <th>income_code</th>\n",
              "    </tr>\n",
              "  </thead>\n",
              "  <tbody>\n",
              "    <tr>\n",
              "      <th>count</th>\n",
              "      <td>32560.000000</td>\n",
              "      <td>32560.000000</td>\n",
              "      <td>32560.000000</td>\n",
              "      <td>32560.000000</td>\n",
              "      <td>32560.000000</td>\n",
              "      <td>32560.000000</td>\n",
              "      <td>32560.000000</td>\n",
              "      <td>32560.000000</td>\n",
              "      <td>32560.000000</td>\n",
              "      <td>32560.000000</td>\n",
              "      <td>32560.000000</td>\n",
              "      <td>32560.000000</td>\n",
              "      <td>32560.000000</td>\n",
              "    </tr>\n",
              "    <tr>\n",
              "      <th>mean</th>\n",
              "      <td>0.428685</td>\n",
              "      <td>0.010776</td>\n",
              "      <td>0.020043</td>\n",
              "      <td>0.408459</td>\n",
              "      <td>0.483600</td>\n",
              "      <td>0.686550</td>\n",
              "      <td>0.435299</td>\n",
              "      <td>0.469494</td>\n",
              "      <td>0.289275</td>\n",
              "      <td>0.916462</td>\n",
              "      <td>0.669195</td>\n",
              "      <td>0.895580</td>\n",
              "      <td>0.240817</td>\n",
              "    </tr>\n",
              "    <tr>\n",
              "      <th>std</th>\n",
              "      <td>0.151563</td>\n",
              "      <td>0.073855</td>\n",
              "      <td>0.092508</td>\n",
              "      <td>0.124723</td>\n",
              "      <td>0.181985</td>\n",
              "      <td>0.258021</td>\n",
              "      <td>0.251038</td>\n",
              "      <td>0.302058</td>\n",
              "      <td>0.321359</td>\n",
              "      <td>0.212204</td>\n",
              "      <td>0.470510</td>\n",
              "      <td>0.190827</td>\n",
              "      <td>0.427586</td>\n",
              "    </tr>\n",
              "    <tr>\n",
              "      <th>min</th>\n",
              "      <td>0.188889</td>\n",
              "      <td>0.000000</td>\n",
              "      <td>0.000000</td>\n",
              "      <td>0.010101</td>\n",
              "      <td>0.000000</td>\n",
              "      <td>0.000000</td>\n",
              "      <td>0.000000</td>\n",
              "      <td>0.000000</td>\n",
              "      <td>0.000000</td>\n",
              "      <td>0.000000</td>\n",
              "      <td>0.000000</td>\n",
              "      <td>0.000000</td>\n",
              "      <td>0.000000</td>\n",
              "    </tr>\n",
              "    <tr>\n",
              "      <th>25%</th>\n",
              "      <td>0.311111</td>\n",
              "      <td>0.000000</td>\n",
              "      <td>0.000000</td>\n",
              "      <td>0.404040</td>\n",
              "      <td>0.500000</td>\n",
              "      <td>0.600000</td>\n",
              "      <td>0.333333</td>\n",
              "      <td>0.214286</td>\n",
              "      <td>0.000000</td>\n",
              "      <td>1.000000</td>\n",
              "      <td>0.000000</td>\n",
              "      <td>0.951220</td>\n",
              "      <td>0.000000</td>\n",
              "    </tr>\n",
              "    <tr>\n",
              "      <th>50%</th>\n",
              "      <td>0.411111</td>\n",
              "      <td>0.000000</td>\n",
              "      <td>0.000000</td>\n",
              "      <td>0.404040</td>\n",
              "      <td>0.500000</td>\n",
              "      <td>0.733333</td>\n",
              "      <td>0.333333</td>\n",
              "      <td>0.500000</td>\n",
              "      <td>0.200000</td>\n",
              "      <td>1.000000</td>\n",
              "      <td>1.000000</td>\n",
              "      <td>0.951220</td>\n",
              "      <td>0.000000</td>\n",
              "    </tr>\n",
              "    <tr>\n",
              "      <th>75%</th>\n",
              "      <td>0.533333</td>\n",
              "      <td>0.000000</td>\n",
              "      <td>0.000000</td>\n",
              "      <td>0.454545</td>\n",
              "      <td>0.500000</td>\n",
              "      <td>0.800000</td>\n",
              "      <td>0.666667</td>\n",
              "      <td>0.714286</td>\n",
              "      <td>0.600000</td>\n",
              "      <td>1.000000</td>\n",
              "      <td>1.000000</td>\n",
              "      <td>0.951220</td>\n",
              "      <td>0.000000</td>\n",
              "    </tr>\n",
              "    <tr>\n",
              "      <th>max</th>\n",
              "      <td>1.000000</td>\n",
              "      <td>1.000000</td>\n",
              "      <td>1.000000</td>\n",
              "      <td>1.000000</td>\n",
              "      <td>1.000000</td>\n",
              "      <td>1.000000</td>\n",
              "      <td>1.000000</td>\n",
              "      <td>1.000000</td>\n",
              "      <td>1.000000</td>\n",
              "      <td>1.000000</td>\n",
              "      <td>1.000000</td>\n",
              "      <td>1.000000</td>\n",
              "      <td>1.000000</td>\n",
              "    </tr>\n",
              "  </tbody>\n",
              "</table>\n",
              "</div>"
            ],
            "text/plain": [
              "                age  capital-gain  ...  native-country_code   income_code\n",
              "count  32560.000000  32560.000000  ...         32560.000000  32560.000000\n",
              "mean       0.428685      0.010776  ...             0.895580      0.240817\n",
              "std        0.151563      0.073855  ...             0.190827      0.427586\n",
              "min        0.188889      0.000000  ...             0.000000      0.000000\n",
              "25%        0.311111      0.000000  ...             0.951220      0.000000\n",
              "50%        0.411111      0.000000  ...             0.951220      0.000000\n",
              "75%        0.533333      0.000000  ...             0.951220      0.000000\n",
              "max        1.000000      1.000000  ...             1.000000      1.000000\n",
              "\n",
              "[8 rows x 13 columns]"
            ]
          },
          "metadata": {
            "tags": []
          },
          "execution_count": 75
        }
      ]
    },
    {
      "cell_type": "markdown",
      "metadata": {
        "id": "M0E0wMrbILKT"
      },
      "source": [
        "> Les deux premières lignes de code ci-dessous créent des tableaux des variables indépendantes (X) et dépendantes (y), respectivement. \n",
        "\n",
        "> La troisième ligne divise les données en ensemble de données d'entraînement et de test\n",
        "\n",
        "> la quatrième ligne imprime la forme de l'entraînement et les données de test."
      ]
    },
    {
      "cell_type": "code",
      "metadata": {
        "id": "Lgo_teFvQKAY",
        "colab": {
          "base_uri": "https://localhost:8080/"
        },
        "outputId": "1c2d00cd-cf1c-4da3-b484-ec1e3c6a83a3"
      },
      "source": [
        "X = question3[predictors].values\n",
        "y = question3[target_column].values\n",
        "X_train, X_test, y_train, y_test = train_test_split(X, y, test_size = 0.20, random_state = 1  )\n",
        "print(X_train.shape)\n",
        "print(y_train.shape)\n"
      ],
      "execution_count": null,
      "outputs": [
        {
          "output_type": "stream",
          "text": [
            "(26048, 12)\n",
            "(26048, 1)\n"
          ],
          "name": "stdout"
        }
      ]
    },
    {
      "cell_type": "markdown",
      "metadata": {
        "id": "4_WkoaYFJIyL"
      },
      "source": [
        "> Dans cette étape, on va créer le modèle de réseau neurol en utilisant l'objet estimateur de la bibliothèque scikit-learn, «Multi-Layer Perceptron Classifier». \n",
        "\n",
        "> La première ligne instancie le modèle avec l'argument «hidden_layer_sizes» défini sur trois \"hidden\", qui a le même nombre de neurones que le nombre d'entités dans l'ensemble de données.\n",
        "\n",
        ">  On sélectionne également \"relu\" comme une fonction d'activation et \"adam\" comme solveur pour l'optimisation du poids.\n",
        "\n",
        "> La deuxième ligne de code adapte le modèle aux données d'apprentissage\n",
        "\n",
        ">  Les 3eme et 4eme lignes utilisent le modèle entraîné pour générer des prédictions sur l'ensemble de données d'apprentissage et de test, respectivement.\n"
      ]
    },
    {
      "cell_type": "code",
      "metadata": {
        "id": "AEz8uaBeRSri",
        "colab": {
          "base_uri": "https://localhost:8080/"
        },
        "outputId": "dca95369-7aff-47d0-e91f-81bb04ac61ce"
      },
      "source": [
        "mlp = MLPClassifier(hidden_layer_sizes= (50, 100, 50), activation= 'relu', solver= 'adam', max_iter= 200 )\n",
        "mlp.fit(X_train, y_train)\n",
        "predict_train = mlp.predict(X_train)\n",
        "predict_test = mlp.predict(X_test)"
      ],
      "execution_count": null,
      "outputs": [
        {
          "output_type": "stream",
          "text": [
            "/usr/local/lib/python3.6/dist-packages/sklearn/neural_network/_multilayer_perceptron.py:934: DataConversionWarning: A column-vector y was passed when a 1d array was expected. Please change the shape of y to (n_samples, ), for example using ravel().\n",
            "  y = column_or_1d(y, warn=True)\n",
            "/usr/local/lib/python3.6/dist-packages/sklearn/neural_network/_multilayer_perceptron.py:571: ConvergenceWarning: Stochastic Optimizer: Maximum iterations (200) reached and the optimization hasn't converged yet.\n",
            "  % self.max_iter, ConvergenceWarning)\n"
          ],
          "name": "stderr"
        }
      ]
    },
    {
      "cell_type": "markdown",
      "metadata": {
        "id": "RjQqhJTQLxt0"
      },
      "source": [
        "> On exporte la fonction classification_report et les résultats dans la bibliothèque sklearn\n",
        "\n",
        "> La 2eme ligne et 3eme ligne la matrice de confusion et les résultats du rapport de confusion sur les données d'entraînement"
      ]
    },
    {
      "cell_type": "code",
      "metadata": {
        "id": "Ueq9UUi5Sw1h"
      },
      "source": [
        "from sklearn.metrics import classification_report, confusion_matrix\n",
        "print(confusion_matrix(y_train, predict_train))\n",
        "print(classification_report(y_train, predict_train))"
      ],
      "execution_count": null,
      "outputs": []
    },
    {
      "cell_type": "code",
      "metadata": {
        "id": "XNEh2n_9Ur72"
      },
      "source": [
        ""
      ],
      "execution_count": null,
      "outputs": []
    }
  ]
}